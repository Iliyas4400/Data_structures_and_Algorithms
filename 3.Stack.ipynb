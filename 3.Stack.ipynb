{
 "cells": [
  {
   "cell_type": "code",
   "execution_count": 1,
   "id": "unavailable-polls",
   "metadata": {},
   "outputs": [],
   "source": [
    "#check validity of  expression\n",
    "class stack:\n",
    "    def __init__(self,size):\n",
    "        self.size = size         # to use any variable outside the function define it as self \n",
    "        self.items=[None]*size\n",
    "        self.count=0\n",
    "    def is_empty(self):\n",
    "        return self.count==0\n",
    "    def is_full(self):\n",
    "        return self.count==self.size\n",
    "    def push(self,number):\n",
    "        if self.is_full():      # to use any function in side the class call it as self and function name\n",
    "            print('Stack is Full {} cant be pushed'.format(number))\n",
    "            return\n",
    "        self.items[self.count]=number\n",
    "        self.count+=1\n",
    "    def pop(self):\n",
    "        if self.is_empty():\n",
    "#             print('Stack is Empty')\n",
    "            return -1\n",
    "        x=self.items[self.count-1]\n",
    "        self.items[self.count-1]=None\n",
    "        self.count-=1\n",
    "#         print('popped element : ',x)\n",
    "        return x\n",
    "    def display(self):\n",
    "        print(self.items)"
   ]
  },
  {
   "cell_type": "code",
   "execution_count": 2,
   "id": "pressing-import",
   "metadata": {},
   "outputs": [
    {
     "data": {
      "text/plain": [
       "-1"
      ]
     },
     "execution_count": 2,
     "metadata": {},
     "output_type": "execute_result"
    }
   ],
   "source": [
    "st=stack(10)\n",
    "st.pop()"
   ]
  },
  {
   "cell_type": "code",
   "execution_count": 3,
   "id": "durable-greenhouse",
   "metadata": {},
   "outputs": [
    {
     "name": "stdout",
     "output_type": "stream",
     "text": [
      "[None, None, None, None, None, None, None, None, None, None]\n"
     ]
    }
   ],
   "source": [
    "st.display()"
   ]
  },
  {
   "cell_type": "code",
   "execution_count": 4,
   "id": "present-motion",
   "metadata": {},
   "outputs": [
    {
     "name": "stdout",
     "output_type": "stream",
     "text": [
      "[1, None, None, None, None, None, None, None, None, None]\n"
     ]
    }
   ],
   "source": [
    "st.push(1)\n",
    "st.display()"
   ]
  },
  {
   "cell_type": "code",
   "execution_count": 5,
   "id": "brilliant-workplace",
   "metadata": {},
   "outputs": [
    {
     "name": "stdout",
     "output_type": "stream",
     "text": [
      "1\n",
      "[None, None, None, None, None, None, None, None, None, None]\n"
     ]
    }
   ],
   "source": [
    "s=st.pop()\n",
    "print(s)\n",
    "st.display()"
   ]
  },
  {
   "cell_type": "code",
   "execution_count": 6,
   "id": "dirty-hamburg",
   "metadata": {},
   "outputs": [
    {
     "name": "stdout",
     "output_type": "stream",
     "text": [
      "[1, 2, 3, 4, None, None, None, None, None, None]\n"
     ]
    }
   ],
   "source": [
    "st.push(1)\n",
    "st.push(2)\n",
    "st.push(3)\n",
    "st.push(4)\n",
    "st.display()"
   ]
  },
  {
   "cell_type": "code",
   "execution_count": 7,
   "id": "living-transparency",
   "metadata": {},
   "outputs": [
    {
     "name": "stdout",
     "output_type": "stream",
     "text": [
      "Stack is Full 11 cant be pushed\n",
      "[1, 2, 3, 4, 5, 6, 7, 8, 9, 10]\n"
     ]
    }
   ],
   "source": [
    "st.push(5)\n",
    "st.push(6)\n",
    "st.push(7)\n",
    "st.push(8)\n",
    "st.push(9)\n",
    "st.push(10)\n",
    "st.push(11)\n",
    "st.display()"
   ]
  },
  {
   "cell_type": "code",
   "execution_count": null,
   "id": "varying-preserve",
   "metadata": {},
   "outputs": [],
   "source": []
  }
 ],
 "metadata": {
  "kernelspec": {
   "display_name": "Python 3",
   "language": "python",
   "name": "python3"
  },
  "language_info": {
   "codemirror_mode": {
    "name": "ipython",
    "version": 3
   },
   "file_extension": ".py",
   "mimetype": "text/x-python",
   "name": "python",
   "nbconvert_exporter": "python",
   "pygments_lexer": "ipython3",
   "version": "3.7.3"
  }
 },
 "nbformat": 4,
 "nbformat_minor": 5
}
