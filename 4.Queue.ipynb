{
 "cells": [
  {
   "cell_type": "code",
   "execution_count": 1,
   "id": "pursuant-offset",
   "metadata": {},
   "outputs": [],
   "source": [
    "#implement queue\n",
    "class queue:\n",
    "    def __init__(self,size):\n",
    "        self.items=[None]*size\n",
    "        self.size=size\n",
    "        self.front=0\n",
    "        self.rear=0\n",
    "        self.count=0\n",
    "    def is_empty(self):\n",
    "        return self.front==self.rear\n",
    "    def is_full(self):\n",
    "        return self.rear==self.size\n",
    "    def enqueue(self,value):\n",
    "        if self.is_full():\n",
    "            print('Queue is full')\n",
    "            return\n",
    "        self.items[self.rear]=value\n",
    "#         print(self.rear,self.count,self.front,self.front==self.rear)\n",
    "        self.rear+=1\n",
    "        self.count+=1\n",
    "    def dequeue(self):\n",
    "        if self.is_empty():\n",
    "            print('Queue is Empty')\n",
    "            return\n",
    "        x=self.items[self.front]\n",
    "        print('Dequeue element : ',x)\n",
    "        self.items[self.front]=None\n",
    "        self.front+=1\n",
    "        self.count-=1\n",
    "    def display(self):\n",
    "        print(self.items)\n",
    "        "
   ]
  },
  {
   "cell_type": "code",
   "execution_count": 2,
   "id": "incredible-briefing",
   "metadata": {},
   "outputs": [
    {
     "name": "stdout",
     "output_type": "stream",
     "text": [
      "[None, None, None, None, None, None, None, None, None, None]\n"
     ]
    }
   ],
   "source": [
    "qu=queue(10)\n",
    "qu.display()"
   ]
  },
  {
   "cell_type": "code",
   "execution_count": 3,
   "id": "athletic-pledge",
   "metadata": {},
   "outputs": [
    {
     "name": "stdout",
     "output_type": "stream",
     "text": [
      "[1, 2, 3, None, None, None, None, None, None, None]\n"
     ]
    }
   ],
   "source": [
    "qu.enqueue(1)\n",
    "qu.enqueue(2)\n",
    "qu.enqueue(3)\n",
    "qu.display()"
   ]
  },
  {
   "cell_type": "code",
   "execution_count": 4,
   "id": "wanted-situation",
   "metadata": {},
   "outputs": [
    {
     "name": "stdout",
     "output_type": "stream",
     "text": [
      "Queue is full\n",
      "Queue is full\n",
      "Queue is full\n",
      "[1, 2, 3, 1, 2, 3, 4, 5, 6, 7]\n"
     ]
    }
   ],
   "source": [
    "qu.enqueue(1)\n",
    "qu.enqueue(2)\n",
    "qu.enqueue(3)\n",
    "qu.enqueue(4)\n",
    "qu.enqueue(5)\n",
    "qu.enqueue(6)\n",
    "qu.enqueue(7)\n",
    "qu.enqueue(8)\n",
    "qu.enqueue(9)\n",
    "qu.enqueue(10)\n",
    "\n",
    "qu.display()"
   ]
  },
  {
   "cell_type": "code",
   "execution_count": 5,
   "id": "complete-lambda",
   "metadata": {},
   "outputs": [
    {
     "name": "stdout",
     "output_type": "stream",
     "text": [
      "Queue is full\n"
     ]
    }
   ],
   "source": [
    "qu.enqueue(11)"
   ]
  },
  {
   "cell_type": "code",
   "execution_count": 6,
   "id": "acting-journal",
   "metadata": {},
   "outputs": [
    {
     "name": "stdout",
     "output_type": "stream",
     "text": [
      "Dequeue element :  1\n",
      "[None, 2, 3, 1, 2, 3, 4, 5, 6, 7]\n"
     ]
    }
   ],
   "source": [
    "qu.dequeue()\n",
    "qu.display()"
   ]
  },
  {
   "cell_type": "code",
   "execution_count": 7,
   "id": "dominican-titanium",
   "metadata": {},
   "outputs": [
    {
     "name": "stdout",
     "output_type": "stream",
     "text": [
      "Dequeue element :  2\n",
      "[None, None, 3, 1, 2, 3, 4, 5, 6, 7]\n"
     ]
    }
   ],
   "source": [
    "qu.dequeue()\n",
    "qu.display()"
   ]
  },
  {
   "cell_type": "code",
   "execution_count": 8,
   "id": "checked-courtesy",
   "metadata": {},
   "outputs": [
    {
     "name": "stdout",
     "output_type": "stream",
     "text": [
      "Dequeue element :  3\n",
      "[None, None, None, 1, 2, 3, 4, 5, 6, 7]\n"
     ]
    }
   ],
   "source": [
    "qu.dequeue()\n",
    "qu.display()"
   ]
  },
  {
   "cell_type": "code",
   "execution_count": 9,
   "id": "changed-brighton",
   "metadata": {},
   "outputs": [
    {
     "name": "stdout",
     "output_type": "stream",
     "text": [
      "Queue is full\n",
      "[None, None, None, 1, 2, 3, 4, 5, 6, 7]\n"
     ]
    }
   ],
   "source": [
    "qu.enqueue(11) #though there is place for enqueue in first 3 places but we cant do it to overcome this we can use  \n",
    "qu.display()    #circular queue"
   ]
  },
  {
   "cell_type": "code",
   "execution_count": 10,
   "id": "after-process",
   "metadata": {},
   "outputs": [],
   "source": [
    "#implement circular queue\n",
    "class queue:\n",
    "    def __init__(self,size):\n",
    "        self.items=[None]*size\n",
    "        self.size=size\n",
    "        self.front=0\n",
    "        self.count=0\n",
    "    def is_empty(self):\n",
    "        return self.front==self.count\n",
    "    def is_full(self):\n",
    "        if None not in self.items:\n",
    "            return True\n",
    "    def enqueue(self,value):\n",
    "        if self.is_full():\n",
    "            print('Queue is full')\n",
    "            return\n",
    "        i=(self.count+self.front)%self.size\n",
    "        self.items[i]=value\n",
    "        self.count+=1\n",
    "    def dequeue(self):\n",
    "        if self.is_empty():\n",
    "            print('Queue is Empty')\n",
    "            return\n",
    "        x=self.items[self.front]\n",
    "        print('Dequeue element : ',x)\n",
    "        self.items[self.front]=None\n",
    "        self.front=(self.front+1)%self.size\n",
    "        self.count-=1\n",
    "        print(self.count,self.front)\n",
    "    def display(self):\n",
    "        print(self.items)"
   ]
  },
  {
   "cell_type": "code",
   "execution_count": 11,
   "id": "understanding-ocean",
   "metadata": {},
   "outputs": [
    {
     "name": "stdout",
     "output_type": "stream",
     "text": [
      "[None, None, None, None, None, None, None, None, None, None]\n",
      "Queue is Empty\n"
     ]
    }
   ],
   "source": [
    "qu=queue(10)\n",
    "qu.display()\n",
    "qu.dequeue()"
   ]
  },
  {
   "cell_type": "code",
   "execution_count": 12,
   "id": "electrical-alias",
   "metadata": {},
   "outputs": [
    {
     "name": "stdout",
     "output_type": "stream",
     "text": [
      "[1, 2, 3, 4, 5, 6, 7, 8, 9, 10]\n",
      "Queue is full\n",
      "[1, 2, 3, 4, 5, 6, 7, 8, 9, 10]\n"
     ]
    }
   ],
   "source": [
    "qu.enqueue(1)\n",
    "qu.enqueue(2)\n",
    "qu.enqueue(3)\n",
    "qu.enqueue(4)\n",
    "qu.enqueue(5)\n",
    "qu.enqueue(6)\n",
    "qu.enqueue(7)\n",
    "qu.enqueue(8)\n",
    "qu.enqueue(9)\n",
    "qu.enqueue(10)\n",
    "\n",
    "qu.display()\n",
    "\n",
    "qu.enqueue(11) \n",
    "qu.display()"
   ]
  },
  {
   "cell_type": "code",
   "execution_count": 13,
   "id": "southern-regular",
   "metadata": {},
   "outputs": [
    {
     "name": "stdout",
     "output_type": "stream",
     "text": [
      "Dequeue element :  1\n",
      "9 1\n",
      "[None, 2, 3, 4, 5, 6, 7, 8, 9, 10]\n"
     ]
    }
   ],
   "source": [
    "qu.dequeue()\n",
    "qu.display()"
   ]
  },
  {
   "cell_type": "code",
   "execution_count": 14,
   "id": "pediatric-programmer",
   "metadata": {},
   "outputs": [
    {
     "name": "stdout",
     "output_type": "stream",
     "text": [
      "Dequeue element :  2\n",
      "8 2\n",
      "[None, None, 3, 4, 5, 6, 7, 8, 9, 10]\n"
     ]
    }
   ],
   "source": [
    "qu.dequeue()\n",
    "qu.display()"
   ]
  },
  {
   "cell_type": "code",
   "execution_count": 15,
   "id": "following-flesh",
   "metadata": {},
   "outputs": [
    {
     "name": "stdout",
     "output_type": "stream",
     "text": [
      "[11, None, 3, 4, 5, 6, 7, 8, 9, 10]\n"
     ]
    }
   ],
   "source": [
    "qu.enqueue(11) #11 can be inserted\n",
    "qu.display()"
   ]
  },
  {
   "cell_type": "code",
   "execution_count": 16,
   "id": "sitting-sunday",
   "metadata": {},
   "outputs": [
    {
     "name": "stdout",
     "output_type": "stream",
     "text": [
      "[11, 12, 3, 4, 5, 6, 7, 8, 9, 10]\n"
     ]
    }
   ],
   "source": [
    "qu.enqueue(12)\n",
    "qu.display()"
   ]
  },
  {
   "cell_type": "code",
   "execution_count": 17,
   "id": "hollywood-prince",
   "metadata": {},
   "outputs": [
    {
     "name": "stdout",
     "output_type": "stream",
     "text": [
      "Queue is full\n",
      "[11, 12, 3, 4, 5, 6, 7, 8, 9, 10]\n"
     ]
    }
   ],
   "source": [
    "qu.enqueue(13)\n",
    "qu.display()"
   ]
  }
 ],
 "metadata": {
  "kernelspec": {
   "display_name": "Python 3",
   "language": "python",
   "name": "python3"
  },
  "language_info": {
   "codemirror_mode": {
    "name": "ipython",
    "version": 3
   },
   "file_extension": ".py",
   "mimetype": "text/x-python",
   "name": "python",
   "nbconvert_exporter": "python",
   "pygments_lexer": "ipython3",
   "version": "3.7.3"
  }
 },
 "nbformat": 4,
 "nbformat_minor": 5
}
