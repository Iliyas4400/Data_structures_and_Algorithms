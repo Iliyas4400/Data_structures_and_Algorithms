{
 "cells": [
  {
   "cell_type": "code",
   "execution_count": 1,
   "metadata": {},
   "outputs": [],
   "source": [
    "#selection sort\n",
    "def selection(l):\n",
    "    for i in range(len(l)):\n",
    "        min=l[i]                 #initialize the first value as smallest value\n",
    "        for j in range(i,len(l)): #iterate in range of i to length of l(in first iteraion it moves from 0 to n then 1 to n and so on)\n",
    "            if l[j]<=min:         #check the smallest element from the list\n",
    "                min,k=l[j],j\n",
    "        l[i],l[k]=l[k],l[i]      #swap smallest element with i th element\n",
    "    return(l)"
   ]
  },
  {
   "cell_type": "code",
   "execution_count": 2,
   "metadata": {},
   "outputs": [
    {
     "name": "stdout",
     "output_type": "stream",
     "text": [
      "[1, 2, 3, 4, 6]\n",
      "[1, 1, 1, 2, 2, 3, 4, 4, 5, 5, 6]\n"
     ]
    }
   ],
   "source": [
    "l=[4,1,2,6,3]\n",
    "print(selection(l))\n",
    "l=[6,5,5,4,4,3,2,2,1,1,1]\n",
    "print(selection(l))"
   ]
  },
  {
   "cell_type": "code",
   "execution_count": 3,
   "metadata": {},
   "outputs": [],
   "source": [
    "#bubble sort \n",
    "def bubble(l):\n",
    "    for i in range(len(l)):   #iterate through the length of l\n",
    "        for j in range(len(l)-(i+1)):  #iterate through 0 to len(l)-i+1\n",
    "            if(l[j]>l[j+1]):        #if previous element is greater swap them\n",
    "                l[j],l[j+1]=l[j+1],l[j]\n",
    "    return(l)"
   ]
  },
  {
   "cell_type": "code",
   "execution_count": 4,
   "metadata": {},
   "outputs": [
    {
     "name": "stdout",
     "output_type": "stream",
     "text": [
      "[1, 2, 3, 4, 6]\n",
      "[1, 1, 1, 2, 2, 3, 4, 4, 5, 5, 6]\n"
     ]
    }
   ],
   "source": [
    "l=[4,1,2,6,3]\n",
    "print(bubble(l))\n",
    "l=[6,5,5,4,4,3,2,2,1,1,1]\n",
    "print(bubble(l))"
   ]
  },
  {
   "cell_type": "code",
   "execution_count": 5,
   "metadata": {},
   "outputs": [],
   "source": [
    "#bubble sort improvement\n",
    "def bubble(l):\n",
    "    for i in range(len(l)):   #iterate through the length of l\n",
    "        swaps=0               #keep count of passes\n",
    "        for j in range(len(l)-(i+1)):  #iterate through 0 to len(l)-i+1\n",
    "            if(l[j]>l[j+1]):        #if previous element is greater swap them\n",
    "                l[j],l[j+1]=l[j+1],l[j]\n",
    "                swaps+=1\n",
    "        if swaps==0:      #if the array is sorted within few iterations \n",
    "            break            #remaining swaps will be zero\n",
    "    return(l)"
   ]
  },
  {
   "cell_type": "code",
   "execution_count": 6,
   "metadata": {},
   "outputs": [
    {
     "name": "stdout",
     "output_type": "stream",
     "text": [
      "[1, 2, 3, 4, 6]\n",
      "[1, 1, 1, 2, 2, 3, 4, 4, 5, 5, 6]\n"
     ]
    }
   ],
   "source": [
    "l=[4,1,2,6,3]\n",
    "print(bubble(l))\n",
    "l=[6,5,5,4,4,3,2,2,1,1,1]\n",
    "print(bubble(l))"
   ]
  },
  {
   "cell_type": "code",
   "execution_count": 7,
   "metadata": {},
   "outputs": [],
   "source": [
    "#Insertion sort\n",
    "def insertion(l):\n",
    "    for i in range(1,len(l)): #iterate from 1 to n-1 bcz first element is considered as sorted\n",
    "        temp=l[i]         #assign first element of unsorted list as temp\n",
    "        j=i-1           #0 to i-1 is sorted part and i to n-1 is unsorted part (assign end of index of unsorted part)\n",
    "        while(j>=0 and l[j]>temp): #check if each element is greater than temp if yes move it right\n",
    "            l[j+1]=l[j]   #shift the elements to the right\n",
    "            j=j-1         #decrease j\n",
    "        l[j+1]=temp       #insert temp in proper position \n",
    "    return(l)"
   ]
  },
  {
   "cell_type": "code",
   "execution_count": 8,
   "metadata": {},
   "outputs": [
    {
     "name": "stdout",
     "output_type": "stream",
     "text": [
      "[1, 2, 3, 4, 6]\n",
      "[1, 1, 1, 2, 2, 3, 4, 4, 5, 5, 6]\n"
     ]
    }
   ],
   "source": [
    "l=[4,1,2,6,3]\n",
    "print(insertion(l))\n",
    "l=[6,5,5,4,4,3,2,2,1,1,1]\n",
    "print(insertion(l))"
   ]
  },
  {
   "cell_type": "code",
   "execution_count": 9,
   "metadata": {},
   "outputs": [],
   "source": [
    "#merge sort recursive\n",
    "def merge_sort(l):\n",
    "    n=len(l)\n",
    "    temp=[0]*n\n",
    "    sort(l,temp,0,n-1)\n",
    "    \n",
    "def sort(l,temp,low,up):  #low and up values are changed \n",
    "    if low==up:           #recursion continues until up==low ie only one element is present\n",
    "        return\n",
    "    mid=(low+up)//2 \n",
    "    sort(l,temp,low,mid)  #sort left sublist\n",
    "    sort(l,temp,mid+1,up)  #sort right sublist\n",
    "    merge(l,temp,low,mid,mid+1,up)  #merge the sorted part \n",
    "    copy(l,temp,low,up)             #copy the sorted part in l\n",
    "    \n",
    "def merge(l,temp,low1,up1,low2,up2):\n",
    "    i=low1\n",
    "    j=low2\n",
    "    k=low1\n",
    "    while(i<=up1 and j<=up2):\n",
    "        if(l[i] <= l[j]):\n",
    "            temp[k]=l[i]\n",
    "            i+=1\n",
    "        else:\n",
    "            temp[k]=l[j]\n",
    "            j+=1\n",
    "        k+=1\n",
    "    while(i<=up1):\n",
    "        temp[k]=l[i]\n",
    "        i+=1\n",
    "        k+=1\n",
    "    while(j<=up2):\n",
    "        temp[k]=l[j]\n",
    "        j+=1\n",
    "        k+=1\n",
    "        \n",
    "def copy(l,temp,low,up):\n",
    "    for i in range(low,up+1):\n",
    "        l[i]=temp[i]"
   ]
  },
  {
   "cell_type": "code",
   "execution_count": 10,
   "metadata": {},
   "outputs": [
    {
     "name": "stdout",
     "output_type": "stream",
     "text": [
      "[2, 3, 4, 9, 9, 10]\n"
     ]
    }
   ],
   "source": [
    "l=[10,9,2,3,4,9]\n",
    "merge_sort(l)\n",
    "print(l)"
   ]
  },
  {
   "cell_type": "code",
   "execution_count": 11,
   "metadata": {},
   "outputs": [],
   "source": [
    "#Quick sort\n",
    "def quick_sort(a):\n",
    "    sort(a,0,len(a)-1)\n",
    "    \n",
    "def sort(a,low,up):\n",
    "    if low>=up:\n",
    "        return\n",
    "    p=partition(a,low,up)\n",
    "    sort(a,low,p-1)  #sort left sublist\n",
    "    sort(a,p+1,up)   #sort right sublist\n",
    "    \n",
    "def partition(a,low,up):\n",
    "    pivot=a[low]\n",
    "    i=low+1\n",
    "    j=up\n",
    "    \n",
    "    while i<=j: #check if there are no elements or a single element\n",
    "        while a[i] <pivot and i<up:\n",
    "            i+=1\n",
    "        while a[j] >pivot:\n",
    "            j-=1\n",
    "        if i<j: #swap a[i] and a[j]\n",
    "            temp=a[i]\n",
    "            a[i]=a[j]\n",
    "            a[j]=temp\n",
    "            i+=1\n",
    "            j-=1\n",
    "        else:  #found proper place for pivot\n",
    "            break\n",
    "    #proper place for pivot is j\n",
    "    a[low]=a[j]\n",
    "    a[j]=pivot\n",
    "    \n",
    "    return j"
   ]
  },
  {
   "cell_type": "code",
   "execution_count": 12,
   "metadata": {},
   "outputs": [
    {
     "name": "stdout",
     "output_type": "stream",
     "text": [
      "[1, 3, 5, 8, 9, 10]\n"
     ]
    }
   ],
   "source": [
    "l=[10,3,5,1,8,9]\n",
    "quick_sort(l)\n",
    "print(l)"
   ]
  },
  {
   "cell_type": "code",
   "execution_count": null,
   "metadata": {},
   "outputs": [],
   "source": []
  }
 ],
 "metadata": {
  "kernelspec": {
   "display_name": "Python 3",
   "language": "python",
   "name": "python3"
  },
  "language_info": {
   "codemirror_mode": {
    "name": "ipython",
    "version": 3
   },
   "file_extension": ".py",
   "mimetype": "text/x-python",
   "name": "python",
   "nbconvert_exporter": "python",
   "pygments_lexer": "ipython3",
   "version": "3.7.3"
  }
 },
 "nbformat": 4,
 "nbformat_minor": 2
}
