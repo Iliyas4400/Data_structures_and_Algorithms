{
 "cells": [
  {
   "cell_type": "code",
   "execution_count": 1,
   "metadata": {},
   "outputs": [],
   "source": [
    "class Node:\n",
    "    def __init__(self,value):\n",
    "        self.info=value\n",
    "        self.link=None\n",
    "class singlelinkedlist():\n",
    "    def __init__(self):\n",
    "        self.start=None\n",
    "    #-------------------------------------------\n",
    "    def display(self):\n",
    "        if self.start is None:\n",
    "            print('list is empty')\n",
    "            return\n",
    "        else:\n",
    "            print(\"list is : \")\n",
    "            p=self.start\n",
    "            while p is not None:\n",
    "                print(p.info,' ',end=\"\")\n",
    "                p=p.link\n",
    "            print()\n",
    "    def insert_begining(self,data):\n",
    "        temp=Node(data)\n",
    "        temp.link=self.start\n",
    "        self.start=temp\n",
    "    def insert_at_end(self,data):\n",
    "        temp=Node(data)\n",
    "        if self.start is None:\n",
    "            self.start=temp\n",
    "            return\n",
    "        p=self.start\n",
    "        while p.link is not None:\n",
    "            p=p.link\n",
    "        p.link=temp\n",
    "    #---------------------------------\n",
    "    def create_list(self):\n",
    "        n=int(input('enter the number of elements '))\n",
    "        for i in range(0,n):\n",
    "            data=int(input('enter the numbers: '))\n",
    "            self.insert_at_end(data)\n",
    "    #----------------------------------\n",
    "    def delete_begining(self):\n",
    "        if self.start==None:#list is empty\n",
    "            return\n",
    "        self.start=self.start.link #only node or many nodes\n",
    "    def delete_end(self):\n",
    "        if self.start==None:#list is empty\n",
    "            return\n",
    "        if self.start.link==None:\n",
    "            self.start=None # only node\n",
    "        p=self.start\n",
    "        while p.link.link!=None: #end node (p points to last but one th node)\n",
    "            p=p.link\n",
    "        p.link=None\n",
    "    def delete_btwn(self,data):\n",
    "        if self.start==None:#list is empty\n",
    "            return\n",
    "        if self.start.info==data:#first node\n",
    "            self.start=self.start.link\n",
    "        p=self.start\n",
    "        while p.link != None:#middle or end node\n",
    "            if p.link.info == data:\n",
    "                break\n",
    "            p=p.link\n",
    "        if p.link is None:\n",
    "            print('element is not present')\n",
    "        else:\n",
    "            p.link = p.link.link\n",
    "    #--------------------------------\n",
    "    def reverse(self):\n",
    "        prev=None\n",
    "        p=self.start\n",
    "        while p != None:\n",
    "            next=p.link\n",
    "            p.link=prev\n",
    "            prev=p\n",
    "            p=next\n",
    "        self.start=prev\n",
    "    #---------------------------------\n",
    "     #sorting by exchanging data\n",
    "    def bubble_sort(self):\n",
    "        end=None  #keep a flag to reduce\n",
    "        while end != self.start: #check if end is pointing to second node\n",
    "            p=self.start\n",
    "            while p.link != end:\n",
    "                q=p.link\n",
    "                if p.info > q.info:\n",
    "                    p.info,q.info=q.info,p.info\n",
    "                p=p.link\n",
    "            end=p"
   ]
  },
  {
   "cell_type": "code",
   "execution_count": 2,
   "metadata": {},
   "outputs": [
    {
     "name": "stdout",
     "output_type": "stream",
     "text": [
      "enter the number of elements 7\n",
      "enter the numbers: 9\n",
      "enter the numbers: 4\n",
      "enter the numbers: 5\n",
      "enter the numbers: 4\n",
      "enter the numbers: 6\n",
      "enter the numbers: 7\n",
      "enter the numbers: 1\n",
      "list is : \n",
      "9  4  5  4  6  7  1  \n"
     ]
    }
   ],
   "source": [
    "list=singlelinkedlist()\n",
    "list.create_list()\n",
    "list.display()"
   ]
  },
  {
   "cell_type": "code",
   "execution_count": 10,
   "metadata": {},
   "outputs": [
    {
     "name": "stdout",
     "output_type": "stream",
     "text": [
      "list is : \n",
      "9  7  6  5  4  4  1  1  \n"
     ]
    }
   ],
   "source": [
    "list.insert_at_end(1)\n",
    "list.display()"
   ]
  },
  {
   "cell_type": "code",
   "execution_count": 11,
   "metadata": {},
   "outputs": [
    {
     "name": "stdout",
     "output_type": "stream",
     "text": [
      "list is : \n",
      "9  9  7  6  5  4  4  1  1  \n"
     ]
    }
   ],
   "source": [
    "list.insert_begining(9)\n",
    "list.display()"
   ]
  },
  {
   "cell_type": "code",
   "execution_count": 12,
   "metadata": {},
   "outputs": [
    {
     "name": "stdout",
     "output_type": "stream",
     "text": [
      "list is : \n",
      "9  7  6  5  4  4  1  1  \n"
     ]
    }
   ],
   "source": [
    "list.delete_begining()\n",
    "list.display()"
   ]
  },
  {
   "cell_type": "code",
   "execution_count": 13,
   "metadata": {},
   "outputs": [
    {
     "name": "stdout",
     "output_type": "stream",
     "text": [
      "list is : \n",
      "9  7  6  5  4  4  1  \n"
     ]
    }
   ],
   "source": [
    "list.delete_end()\n",
    "list.display()"
   ]
  },
  {
   "cell_type": "code",
   "execution_count": 14,
   "metadata": {},
   "outputs": [
    {
     "name": "stdout",
     "output_type": "stream",
     "text": [
      "element is not present\n",
      "list is : \n",
      "9  7  6  5  4  4  1  \n"
     ]
    }
   ],
   "source": [
    "list.delete_btwn(80)\n",
    "list.display()"
   ]
  },
  {
   "cell_type": "code",
   "execution_count": 15,
   "metadata": {},
   "outputs": [
    {
     "name": "stdout",
     "output_type": "stream",
     "text": [
      "list is : \n",
      "1  4  4  5  6  7  9  \n"
     ]
    }
   ],
   "source": [
    "list.bubble_sort()\n",
    "list.display()"
   ]
  },
  {
   "cell_type": "code",
   "execution_count": 16,
   "metadata": {},
   "outputs": [
    {
     "name": "stdout",
     "output_type": "stream",
     "text": [
      "list is : \n",
      "9  7  6  5  4  4  1  \n"
     ]
    }
   ],
   "source": [
    "list.reverse()\n",
    "list.display()"
   ]
  },
  {
   "cell_type": "code",
   "execution_count": null,
   "metadata": {},
   "outputs": [],
   "source": []
  }
 ],
 "metadata": {
  "kernelspec": {
   "display_name": "Python 3",
   "language": "python",
   "name": "python3"
  },
  "language_info": {
   "codemirror_mode": {
    "name": "ipython",
    "version": 3
   },
   "file_extension": ".py",
   "mimetype": "text/x-python",
   "name": "python",
   "nbconvert_exporter": "python",
   "pygments_lexer": "ipython3",
   "version": "3.7.3"
  }
 },
 "nbformat": 4,
 "nbformat_minor": 2
}
