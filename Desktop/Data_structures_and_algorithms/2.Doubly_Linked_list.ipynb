{
 "cells": [
  {
   "cell_type": "code",
   "execution_count": 1,
   "metadata": {},
   "outputs": [],
   "source": [
    "class Node():\n",
    "    def __init__(self,data):\n",
    "        self.llink=None\n",
    "        self.value=data\n",
    "        self.rlink=None"
   ]
  },
  {
   "cell_type": "code",
   "execution_count": 2,
   "metadata": {},
   "outputs": [],
   "source": [
    "class doubly_linked_lst():\n",
    "    def __init__(self):\n",
    "        self.start=None\n",
    "    def insert_start(self,data):\n",
    "        temp=Node(data)\n",
    "        temp.rlink=self.start\n",
    "        self.start=temp\n",
    "    def display(self):\n",
    "        p=self.start\n",
    "        while p!=None:\n",
    "            print(p.value)\n",
    "            p=p.rlink\n",
    "    def inser_value_before(self,i_data,data):#insert i_data before data\n",
    "        temp=Node(i_data)\n",
    "        p=self.start\n",
    "        while p.rlink.value!=data and p!=None:\n",
    "            p=p.rlink\n",
    "        \n",
    "        temp.rlink=p.rlink\n",
    "        temp.llink=p\n",
    "        p.rlink.llink=temp\n",
    "        p.rlink=temp\n",
    "    def inser_value_after(self,i_data,data):#insert i_data after data\n",
    "        temp=Node(i_data)\n",
    "        p=self.start\n",
    "        while p.value!=data and p!=None:\n",
    "            p=p.rlink\n",
    "        \n",
    "        temp.rlink=p.rlink\n",
    "        temp.llink=p\n",
    "        p.rlink.llink=temp\n",
    "        p.rlink=temp\n",
    "    def reverse(self): #reverse linked list\n",
    "        prev=None\n",
    "        p=self.start\n",
    "        while p!=None:\n",
    "            n=p.rlink\n",
    "            p.llink=p.rlink\n",
    "            p.rlink=prev\n",
    "            prev=p\n",
    "            p=n\n",
    "        self.start=prev"
   ]
  },
  {
   "cell_type": "code",
   "execution_count": 3,
   "metadata": {},
   "outputs": [],
   "source": [
    "dl=doubly_linked_lst()"
   ]
  },
  {
   "cell_type": "code",
   "execution_count": 4,
   "metadata": {},
   "outputs": [
    {
     "name": "stdout",
     "output_type": "stream",
     "text": [
      "2\n",
      "3\n",
      "4\n",
      "5\n"
     ]
    }
   ],
   "source": [
    "dl.insert_start(5)\n",
    "dl.insert_start(4)\n",
    "dl.insert_start(3)\n",
    "dl.insert_start(2)\n",
    "dl.display()"
   ]
  },
  {
   "cell_type": "code",
   "execution_count": 5,
   "metadata": {},
   "outputs": [
    {
     "name": "stdout",
     "output_type": "stream",
     "text": [
      "5\n",
      "4\n",
      "3\n",
      "2\n"
     ]
    }
   ],
   "source": [
    "dl.reverse()#reverse linked list\n",
    "dl.display()"
   ]
  },
  {
   "cell_type": "code",
   "execution_count": 6,
   "metadata": {},
   "outputs": [
    {
     "name": "stdout",
     "output_type": "stream",
     "text": [
      "5\n",
      "10\n",
      "4\n",
      "3\n",
      "2\n"
     ]
    }
   ],
   "source": [
    "dl.inser_value_before(10,4)#insert 10 after 4 \n",
    "dl.display()"
   ]
  },
  {
   "cell_type": "code",
   "execution_count": 7,
   "metadata": {},
   "outputs": [
    {
     "name": "stdout",
     "output_type": "stream",
     "text": [
      "5\n",
      "10\n",
      "4\n",
      "3\n",
      "20\n",
      "2\n"
     ]
    }
   ],
   "source": [
    "dl.inser_value_after(20,3)#insert 20 after 3\n",
    "dl.display()"
   ]
  }
 ],
 "metadata": {
  "kernelspec": {
   "display_name": "Python 3",
   "language": "python",
   "name": "python3"
  },
  "language_info": {
   "codemirror_mode": {
    "name": "ipython",
    "version": 3
   },
   "file_extension": ".py",
   "mimetype": "text/x-python",
   "name": "python",
   "nbconvert_exporter": "python",
   "pygments_lexer": "ipython3",
   "version": "3.7.3"
  }
 },
 "nbformat": 4,
 "nbformat_minor": 2
}
