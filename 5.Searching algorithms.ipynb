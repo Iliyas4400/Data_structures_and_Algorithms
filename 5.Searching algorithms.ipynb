{
 "cells": [
  {
   "cell_type": "code",
   "execution_count": 1,
   "metadata": {},
   "outputs": [],
   "source": [
    "#linear search\n",
    "def linear(l,a):\n",
    "    flag=False\n",
    "    for i in range(len(l)):\n",
    "        if l[i]==a:\n",
    "            flag=True\n",
    "            break\n",
    "    if flag:\n",
    "        print(\"index of {} is : {}\".format(a,i))\n",
    "        return\n",
    "    else:\n",
    "        print(\"element is not present\")\n",
    "        return"
   ]
  },
  {
   "cell_type": "code",
   "execution_count": 2,
   "metadata": {},
   "outputs": [
    {
     "name": "stdout",
     "output_type": "stream",
     "text": [
      "element is not present\n",
      "None\n",
      "index of 10 is : 6\n",
      "None\n"
     ]
    }
   ],
   "source": [
    "l=[2,3,4,6,8,9,10,12]\n",
    "print(linear(l,7))\n",
    "print(linear(l,10))"
   ]
  },
  {
   "cell_type": "code",
   "execution_count": 3,
   "metadata": {},
   "outputs": [],
   "source": [
    "#binary serch\n",
    "def binary(l,a):\n",
    "    #l=sorted(l)\n",
    "    flag=False\n",
    "    min,max=0,len(l)-1 #assign min and max indecies\n",
    "    while(min<=max):             #while min <= max\n",
    "        mid=(min+max)//2         #mid=(min+max)//2 [floor devision]\n",
    "        if a==l[mid]:            #if a == l[mid] break and set flag as true\n",
    "            flag=True\n",
    "            break\n",
    "        if a>l[mid]:            #if a>l[mid] then  min= mid+1 \n",
    "            min=mid+1\n",
    "        elif a<l[mid]:\n",
    "            max=mid-1\n",
    "    if flag:\n",
    "        print(\"index of {} is : {}\".format(a,mid))\n",
    "    else:\n",
    "        print(\"element not present\")"
   ]
  },
  {
   "cell_type": "code",
   "execution_count": 4,
   "metadata": {},
   "outputs": [
    {
     "name": "stdout",
     "output_type": "stream",
     "text": [
      "index of 4 is : 2\n",
      "None\n",
      "element not present\n",
      "None\n"
     ]
    }
   ],
   "source": [
    "l=[2,3,4,6,8,9,10,12]\n",
    "print(binary(l,4))\n",
    "print(binary(l,7))"
   ]
  },
  {
   "cell_type": "code",
   "execution_count": null,
   "metadata": {},
   "outputs": [],
   "source": []
  }
 ],
 "metadata": {
  "kernelspec": {
   "display_name": "Python 3",
   "language": "python",
   "name": "python3"
  },
  "language_info": {
   "codemirror_mode": {
    "name": "ipython",
    "version": 3
   },
   "file_extension": ".py",
   "mimetype": "text/x-python",
   "name": "python",
   "nbconvert_exporter": "python",
   "pygments_lexer": "ipython3",
   "version": "3.7.3"
  }
 },
 "nbformat": 4,
 "nbformat_minor": 2
}
